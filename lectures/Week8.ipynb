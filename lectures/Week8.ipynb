{
 "cells": [
  {
   "cell_type": "markdown",
   "metadata": {},
   "source": [
    "# Intro\n",
    "\n",
    "It's the last time we meet in class for exercises! And to celebrate this mile-stone, we've put together an amazing set of exercises. And if you're behind, don't worry. The workload is low!\n",
    "\n",
    "  - Part A: First, we play around with sentiment analysis\n",
    "  - Part B **(optional)**: We study paths in networks using a fun new dataset. (If only doing part A feels too easy for you, I've added a really fun exercise that should be fun and challenging.)\n",
    "\n",
    "But first, watch this video that touches upon your final project and Assignment 2 (which will be released later Wednesday),\n",
    "\n",
    "> [**Video**](https://www.dropbox.com/scl/fi/jh3490oqnqh4yl629ik09/ProjectAndAssigment.mp4?rlkey=2uyl7tq0xgzydl5u8pqzncf92&dl=0) about the Independent Project and Assignment 2"
   ]
  },
  {
   "cell_type": "markdown",
   "metadata": {},
   "source": [
    "# Part A: Sentiment analysis"
   ]
  },
  {
   "cell_type": "markdown",
   "metadata": {},
   "source": [
    "Sentiment analysis is another highly useful technique which we'll use to make sense of the Wiki\n",
    "data. Further, experience shows that it might well be very useful when you get to the project stage of the class."
   ]
  },
  {
   "cell_type": "markdown",
   "metadata": {},
   "source": [
    "\n",
    "> [**Video Lecture**](https://www.dropbox.com/scl/fi/u0rn767hg7e6ue4ryx41a/Sentiment.mp4?rlkey=4kwfqv6pkw1aijshm5zqe8ehh&dl=0): Sentiment and dictionary-based methods.\n",
    "\n"
   ]
  },
  {
   "cell_type": "code",
   "execution_count": 2,
   "metadata": {},
   "outputs": [
    {
     "data": {
      "image/jpeg": "[encoded data removed]",
      "text/html": [
       "\n",
       "        <iframe\n",
       "            width=\"800\"\n",
       "            height=\"450\"\n",
       "            src=\"https://www.youtube.com/embed/hY0UCD5UiiY\"\n",
       "            frameborder=\"0\"\n",
       "            allowfullscreen\n",
       "            \n",
       "        ></iframe>\n",
       "        "
      ],
      "text/plain": [
       "<IPython.lib.display.YouTubeVideo at 0x7fb1401f9780>"
      ]
     },
     "execution_count": 2,
     "metadata": {},
     "output_type": "execute_result"
    }
   ],
   "source": [
    "# There's also this one from 2010 showing Sune Lehmann on national television\n",
    "from IPython.display import YouTubeVideo, HTML, display\n",
    "YouTubeVideo(\"hY0UCD5UiiY\",width=800, height=450)"
   ]
  },
  {
   "cell_type": "markdown",
   "metadata": {},
   "source": [
    "> Reading: [Temporal Patterns of Happiness and Information in a Global Social Network: Hedonometrics and Twitter](http://journals.plos.org/plosone/article?id=10.1371/journal.pone.0026752) \n"
   ]
  },
  {
   "cell_type": "markdown",
   "metadata": {},
   "source": [
    "_Exercise 1_: Sentiment distribution. \n",
    "> \n",
    "> * Download the LabMT wordlist. It's available as supplementary material from [Temporal Patterns of Happiness and Information in a Global Social Network: Hedonometrics and Twitter](http://journals.plos.org/plosone/article?id=10.1371/journal.pone.0026752) (Data Set S1). Describe briefly how the list was generated.\n",
    "> * Based on the LabMT word list, write a function that calculates sentiment given a list of tokens (the tokens should be lower case, etc).\n",
    "> * Iterate over the nodes in your network, tokenize each page, and calculate sentiment every single page. Now you have sentiment as a new nodal property. \n",
    "> * Remember histograms? Create a histogram of all character's associated page-sentiments. (And make it a nice histogram - use your histogram making skills from Week 2).\n",
    "> * Who are the 10 rappers with happiest and saddest pages?\n",
    "\n",
    "<!---\n",
    "> * Now we average the average sentiment of the nodes in each community to find a *community level sentiment*. \n",
    ">   - Name each community by its three most connected characters. \n",
    ">   - What are the three happiest communities? \n",
    ">   - what are the three saddest communities?\n",
    ">   - Do these results confirm what you can learn about each community by skimming the wikipedia pages?\n",
    "--->\n",
    "\n",
    "**Note**: Calculating sentiment takes a long time, so arm yourself with patience as your code runs (remember to check that it runs correctly, before waiting patiently). Further, these tips may speed things up. And save somewhere, so you don't have to start over.\n",
    "\n",
    "**Tips for speed**\n",
    "* If you use `freqDist` prior to finding the sentiment, you only have to find it for every unique word and hereafter you can do a weighted mean.\n",
    "* More tips for speeding up loops https://wiki.python.org/moin/PythonSpeed/PerformanceTips#Loops"
   ]
  },
  {
   "cell_type": "markdown",
   "metadata": {},
   "source": [
    "The LabMT wordlist was generated using Amazon's Mechanical Turk service where the annotation of the happiness level for different words was crowdsourced."
   ]
  },
  {
   "cell_type": "code",
   "execution_count": 3,
   "metadata": {},
   "outputs": [],
   "source": [
    "import numpy as np\n",
    "from nltk import FreqDist\n",
    "import pandas as pd"
   ]
  },
  {
   "cell_type": "code",
   "execution_count": 4,
   "metadata": {},
   "outputs": [
    {
     "data": {
      "text/html": [
       "<div>\n",
       "<style scoped>\n",
       "    .dataframe tbody tr th:only-of-type {\n",
       "        vertical-align: middle;\n",
       "    }\n",
       "\n",
       "    .dataframe tbody tr th {\n",
       "        vertical-align: top;\n",
       "    }\n",
       "\n",
       "    .dataframe thead th {\n",
       "        text-align: right;\n",
       "    }\n",
       "</style>\n",
       "<table border=\"1\" class=\"dataframe\">\n",
       "  <thead>\n",
       "    <tr style=\"text-align: right;\">\n",
       "      <th></th>\n",
       "      <th>happiness_rank</th>\n",
       "      <th>happiness_average</th>\n",
       "      <th>happiness_standard_deviation</th>\n",
       "      <th>twitter_rank</th>\n",
       "      <th>google_rank</th>\n",
       "      <th>nyt_rank</th>\n",
       "      <th>lyrics_rank</th>\n",
       "    </tr>\n",
       "    <tr>\n",
       "      <th>word</th>\n",
       "      <th></th>\n",
       "      <th></th>\n",
       "      <th></th>\n",
       "      <th></th>\n",
       "      <th></th>\n",
       "      <th></th>\n",
       "      <th></th>\n",
       "    </tr>\n",
       "  </thead>\n",
       "  <tbody>\n",
       "    <tr>\n",
       "      <th>laughter</th>\n",
       "      <td>1</td>\n",
       "      <td>8.50</td>\n",
       "      <td>0.9313</td>\n",
       "      <td>3600</td>\n",
       "      <td>--</td>\n",
       "      <td>--</td>\n",
       "      <td>1728</td>\n",
       "    </tr>\n",
       "    <tr>\n",
       "      <th>happiness</th>\n",
       "      <td>2</td>\n",
       "      <td>8.44</td>\n",
       "      <td>0.9723</td>\n",
       "      <td>1853</td>\n",
       "      <td>2458</td>\n",
       "      <td>--</td>\n",
       "      <td>1230</td>\n",
       "    </tr>\n",
       "    <tr>\n",
       "      <th>love</th>\n",
       "      <td>3</td>\n",
       "      <td>8.42</td>\n",
       "      <td>1.1082</td>\n",
       "      <td>25</td>\n",
       "      <td>317</td>\n",
       "      <td>328</td>\n",
       "      <td>23</td>\n",
       "    </tr>\n",
       "    <tr>\n",
       "      <th>happy</th>\n",
       "      <td>4</td>\n",
       "      <td>8.30</td>\n",
       "      <td>0.9949</td>\n",
       "      <td>65</td>\n",
       "      <td>1372</td>\n",
       "      <td>1313</td>\n",
       "      <td>375</td>\n",
       "    </tr>\n",
       "    <tr>\n",
       "      <th>laughed</th>\n",
       "      <td>5</td>\n",
       "      <td>8.26</td>\n",
       "      <td>1.1572</td>\n",
       "      <td>3334</td>\n",
       "      <td>3542</td>\n",
       "      <td>--</td>\n",
       "      <td>2332</td>\n",
       "    </tr>\n",
       "  </tbody>\n",
       "</table>\n",
       "</div>"
      ],
      "text/plain": [
       "           happiness_rank  happiness_average  happiness_standard_deviation  \\\n",
       "word                                                                         \n",
       "laughter                1               8.50                        0.9313   \n",
       "happiness               2               8.44                        0.9723   \n",
       "love                    3               8.42                        1.1082   \n",
       "happy                   4               8.30                        0.9949   \n",
       "laughed                 5               8.26                        1.1572   \n",
       "\n",
       "          twitter_rank google_rank nyt_rank lyrics_rank  \n",
       "word                                                     \n",
       "laughter          3600          --       --        1728  \n",
       "happiness         1853        2458       --        1230  \n",
       "love                25         317      328          23  \n",
       "happy               65        1372     1313         375  \n",
       "laughed           3334        3542       --        2332  "
      ]
     },
     "execution_count": 4,
     "metadata": {},
     "output_type": "execute_result"
    }
   ],
   "source": [
    "labMT = pd.read_csv(\"../files/labMT.txt\", sep=\"\\t\")\n",
    "labMT.set_index(\"word\", inplace=True)\n",
    "labMT.head()"
   ]
  },
  {
   "cell_type": "code",
   "execution_count": 5,
   "metadata": {},
   "outputs": [
    {
     "data": {
      "text/html": [
       "<div>\n",
       "<style scoped>\n",
       "    .dataframe tbody tr th:only-of-type {\n",
       "        vertical-align: middle;\n",
       "    }\n",
       "\n",
       "    .dataframe tbody tr th {\n",
       "        vertical-align: top;\n",
       "    }\n",
       "\n",
       "    .dataframe thead th {\n",
       "        text-align: right;\n",
       "    }\n",
       "</style>\n",
       "<table border=\"1\" class=\"dataframe\">\n",
       "  <thead>\n",
       "    <tr style=\"text-align: right;\">\n",
       "      <th></th>\n",
       "      <th>Coast</th>\n",
       "    </tr>\n",
       "    <tr>\n",
       "      <th>WikipediaPageName</th>\n",
       "      <th></th>\n",
       "    </tr>\n",
       "  </thead>\n",
       "  <tbody>\n",
       "    <tr>\n",
       "      <th>03 Greedo</th>\n",
       "      <td>West</td>\n",
       "    </tr>\n",
       "    <tr>\n",
       "      <th>22Gz</th>\n",
       "      <td>East</td>\n",
       "    </tr>\n",
       "    <tr>\n",
       "      <th>24kGoldn</th>\n",
       "      <td>West</td>\n",
       "    </tr>\n",
       "    <tr>\n",
       "      <th>38 Spesh</th>\n",
       "      <td>East</td>\n",
       "    </tr>\n",
       "    <tr>\n",
       "      <th>40 Glocc</th>\n",
       "      <td>West</td>\n",
       "    </tr>\n",
       "  </tbody>\n",
       "</table>\n",
       "</div>"
      ],
      "text/plain": [
       "                  Coast\n",
       "WikipediaPageName      \n",
       "03 Greedo          West\n",
       "22Gz               East\n",
       "24kGoldn           West\n",
       "38 Spesh           East\n",
       "40 Glocc           West"
      ]
     },
     "execution_count": 5,
     "metadata": {},
     "output_type": "execute_result"
    }
   ],
   "source": [
    "rappers_df = pd.read_csv(\"../files/Rappers.csv\")\n",
    "rappers_df.set_index(\"WikipediaPageName\", inplace=True)\n",
    "rappers_df.sort_index(inplace=True)\n",
    "rappers_df.head()"
   ]
  },
  {
   "cell_type": "code",
   "execution_count": 17,
   "metadata": {},
   "outputs": [],
   "source": [
    "def sentiment(tokens):\n",
    "    if(len(tokens) == 0):\n",
    "        return\n",
    "    freq = FreqDist(tokens)\n",
    "    # get the vocabulary we can evaluate with LabMT\n",
    "\n",
    "    vocab = list(filter(lambda word: word in labMT.index, np.unique(tokens)))\n",
    "    weighted_happiness = np.fromiter((freq[word] * labMT.loc[word].happiness_average for word in vocab), dtype=float)\n",
    "    word_frequencies = np.fromiter((freq[word] for word in vocab), dtype=float)\n",
    "    return np.sum(weighted_happiness) / np.sum(word_frequencies)"
   ]
  },
  {
   "cell_type": "code",
   "execution_count": 21,
   "metadata": {},
   "outputs": [],
   "source": [
    "import os\n",
    "import string\n",
    "import nltk.corpus as corpus\n",
    "from nltk import word_tokenize, Text\n",
    "from nltk.stem import WordNetLemmatizer\n",
    "\n",
    "wnl = WordNetLemmatizer()\n",
    "# filenames = os.listdir(\"../files/rapper_texts\")\n",
    "filenames = [f\"{name.replace(' ', '_')}.txt\" for name in rappers_df.index]\n",
    "rapper_tokens = {}\n",
    "for name, file in zip(rappers_df.index, filenames):\n",
    "    with open(f\"../files/rapper_texts/{file}\", \"r\") as fh:\n",
    "        raw = fh.read()\n",
    "        tokens = list(filter(lambda token: wnl.lemmatize(token.lower()) not in string.punctuation, word_tokenize(raw)))\n",
    "        rapper_tokens[name] = tokens\n"
   ]
  },
  {
   "cell_type": "code",
   "execution_count": 22,
   "metadata": {},
   "outputs": [],
   "source": [
    "sentiments = {}\n",
    "for name in rapper_tokens.keys():\n",
    "    sentiment_value = sentiment(rapper_tokens[name])\n",
    "    if(sentiment_value):\n",
    "        sentiments[name] = sentiment_value"
   ]
  },
  {
   "cell_type": "code",
   "execution_count": 29,
   "metadata": {},
   "outputs": [
    {
     "data": {
      "text/html": [
       "<div>\n",
       "<style scoped>\n",
       "    .dataframe tbody tr th:only-of-type {\n",
       "        vertical-align: middle;\n",
       "    }\n",
       "\n",
       "    .dataframe tbody tr th {\n",
       "        vertical-align: top;\n",
       "    }\n",
       "\n",
       "    .dataframe thead th {\n",
       "        text-align: right;\n",
       "    }\n",
       "</style>\n",
       "<table border=\"1\" class=\"dataframe\">\n",
       "  <thead>\n",
       "    <tr style=\"text-align: right;\">\n",
       "      <th></th>\n",
       "      <th>page_happiness</th>\n",
       "    </tr>\n",
       "    <tr>\n",
       "      <th>rapper</th>\n",
       "      <th></th>\n",
       "    </tr>\n",
       "  </thead>\n",
       "  <tbody>\n",
       "    <tr>\n",
       "      <th>03 Greedo</th>\n",
       "      <td>5.381573</td>\n",
       "    </tr>\n",
       "    <tr>\n",
       "      <th>22Gz</th>\n",
       "      <td>5.329292</td>\n",
       "    </tr>\n",
       "    <tr>\n",
       "      <th>24kGoldn</th>\n",
       "      <td>5.618791</td>\n",
       "    </tr>\n",
       "    <tr>\n",
       "      <th>38 Spesh</th>\n",
       "      <td>5.598146</td>\n",
       "    </tr>\n",
       "    <tr>\n",
       "      <th>40 Glocc</th>\n",
       "      <td>5.246625</td>\n",
       "    </tr>\n",
       "  </tbody>\n",
       "</table>\n",
       "</div>"
      ],
      "text/plain": [
       "           page_happiness\n",
       "rapper                   \n",
       "03 Greedo        5.381573\n",
       "22Gz             5.329292\n",
       "24kGoldn         5.618791\n",
       "38 Spesh         5.598146\n",
       "40 Glocc         5.246625"
      ]
     },
     "execution_count": 29,
     "metadata": {},
     "output_type": "execute_result"
    }
   ],
   "source": [
    "sentiments_df = pd.DataFrame({\"rapper\": sentiments.keys(), \"page_happiness\": sentiments.values()})\n",
    "sentiments_df.set_index(\"rapper\", inplace=True)\n",
    "sentiments_df.head()"
   ]
  },
  {
   "cell_type": "code",
   "execution_count": 34,
   "metadata": {},
   "outputs": [
    {
     "data": {
      "image/png": "[encoded data removed]",
      "text/plain": [
       "<Figure size 640x480 with 1 Axes>"
      ]
     },
     "metadata": {},
     "output_type": "display_data"
    }
   ],
   "source": [
    "import matplotlib.pyplot as plt\n",
    "\n",
    "counts, bins = np.histogram(sentiments_df.page_happiness, bins=30)\n",
    "widths = bins[:-1] - bins[1:]\n",
    "plt.bar(bins[:-1], counts, widths)\n",
    "plt.title(label=\"Histogram of happiness values for rapper wikipedia pages \")\n",
    "plt.xlabel(xlabel=\"Average happiness of page\")\n",
    "plt.ylabel(ylabel=\"Number of rapper pages\")\n",
    "plt.show()"
   ]
  },
  {
   "cell_type": "code",
   "execution_count": 35,
   "metadata": {},
   "outputs": [
    {
     "name": "stdout",
     "output_type": "stream",
     "text": [
      "Top 10 rappers with the happiest pages:\n"
     ]
    },
    {
     "data": {
      "text/html": [
       "<div>\n",
       "<style scoped>\n",
       "    .dataframe tbody tr th:only-of-type {\n",
       "        vertical-align: middle;\n",
       "    }\n",
       "\n",
       "    .dataframe tbody tr th {\n",
       "        vertical-align: top;\n",
       "    }\n",
       "\n",
       "    .dataframe thead th {\n",
       "        text-align: right;\n",
       "    }\n",
       "</style>\n",
       "<table border=\"1\" class=\"dataframe\">\n",
       "  <thead>\n",
       "    <tr style=\"text-align: right;\">\n",
       "      <th></th>\n",
       "      <th>page_happiness</th>\n",
       "    </tr>\n",
       "    <tr>\n",
       "      <th>rapper</th>\n",
       "      <th></th>\n",
       "    </tr>\n",
       "  </thead>\n",
       "  <tbody>\n",
       "    <tr>\n",
       "      <th>Foreknown (rapper)</th>\n",
       "      <td>5.825634</td>\n",
       "    </tr>\n",
       "    <tr>\n",
       "      <th>Theo Martins</th>\n",
       "      <td>5.779615</td>\n",
       "    </tr>\n",
       "    <tr>\n",
       "      <th>DJ Webstar</th>\n",
       "      <td>5.733636</td>\n",
       "    </tr>\n",
       "    <tr>\n",
       "      <th>D Smoke</th>\n",
       "      <td>5.723351</td>\n",
       "    </tr>\n",
       "    <tr>\n",
       "      <th>Blxst</th>\n",
       "      <td>5.715609</td>\n",
       "    </tr>\n",
       "    <tr>\n",
       "      <th>King Lil G</th>\n",
       "      <td>5.710247</td>\n",
       "    </tr>\n",
       "    <tr>\n",
       "      <th>MC Yogi</th>\n",
       "      <td>5.704872</td>\n",
       "    </tr>\n",
       "    <tr>\n",
       "      <th>Bkorn</th>\n",
       "      <td>5.704158</td>\n",
       "    </tr>\n",
       "    <tr>\n",
       "      <th>Bahamadia</th>\n",
       "      <td>5.703636</td>\n",
       "    </tr>\n",
       "    <tr>\n",
       "      <th>DJ A-Tron</th>\n",
       "      <td>5.691366</td>\n",
       "    </tr>\n",
       "  </tbody>\n",
       "</table>\n",
       "</div>"
      ],
      "text/plain": [
       "                    page_happiness\n",
       "rapper                            \n",
       "Foreknown (rapper)        5.825634\n",
       "Theo Martins              5.779615\n",
       "DJ Webstar                5.733636\n",
       "D Smoke                   5.723351\n",
       "Blxst                     5.715609\n",
       "King Lil G                5.710247\n",
       "MC Yogi                   5.704872\n",
       "Bkorn                     5.704158\n",
       "Bahamadia                 5.703636\n",
       "DJ A-Tron                 5.691366"
      ]
     },
     "execution_count": 35,
     "metadata": {},
     "output_type": "execute_result"
    }
   ],
   "source": [
    "print(\"Top 10 rappers with the happiest pages:\")\n",
    "sentiments_df.sort_values(\"page_happiness\", ascending=False).head(10)\n"
   ]
  },
  {
   "cell_type": "code",
   "execution_count": 36,
   "metadata": {},
   "outputs": [
    {
     "name": "stdout",
     "output_type": "stream",
     "text": [
      "Top 10 rappers with the saddest pages:\n"
     ]
    },
    {
     "data": {
      "text/html": [
       "<div>\n",
       "<style scoped>\n",
       "    .dataframe tbody tr th:only-of-type {\n",
       "        vertical-align: middle;\n",
       "    }\n",
       "\n",
       "    .dataframe tbody tr th {\n",
       "        vertical-align: top;\n",
       "    }\n",
       "\n",
       "    .dataframe thead th {\n",
       "        text-align: right;\n",
       "    }\n",
       "</style>\n",
       "<table border=\"1\" class=\"dataframe\">\n",
       "  <thead>\n",
       "    <tr style=\"text-align: right;\">\n",
       "      <th></th>\n",
       "      <th>page_happiness</th>\n",
       "    </tr>\n",
       "    <tr>\n",
       "      <th>rapper</th>\n",
       "      <th></th>\n",
       "    </tr>\n",
       "  </thead>\n",
       "  <tbody>\n",
       "    <tr>\n",
       "      <th>Cool C</th>\n",
       "      <td>5.159117</td>\n",
       "    </tr>\n",
       "    <tr>\n",
       "      <th>China Mac</th>\n",
       "      <td>5.162536</td>\n",
       "    </tr>\n",
       "    <tr>\n",
       "      <th>AR-Ab</th>\n",
       "      <td>5.180798</td>\n",
       "    </tr>\n",
       "    <tr>\n",
       "      <th>DJ Whoo Kid</th>\n",
       "      <td>5.200481</td>\n",
       "    </tr>\n",
       "    <tr>\n",
       "      <th>Benzino</th>\n",
       "      <td>5.201280</td>\n",
       "    </tr>\n",
       "    <tr>\n",
       "      <th>Drakeo the Ruler</th>\n",
       "      <td>5.204070</td>\n",
       "    </tr>\n",
       "    <tr>\n",
       "      <th>Half a Mill</th>\n",
       "      <td>5.206753</td>\n",
       "    </tr>\n",
       "    <tr>\n",
       "      <th>Shady Nate</th>\n",
       "      <td>5.210400</td>\n",
       "    </tr>\n",
       "    <tr>\n",
       "      <th>Jimmy Wopo</th>\n",
       "      <td>5.211556</td>\n",
       "    </tr>\n",
       "    <tr>\n",
       "      <th>Bobby Shmurda</th>\n",
       "      <td>5.216737</td>\n",
       "    </tr>\n",
       "  </tbody>\n",
       "</table>\n",
       "</div>"
      ],
      "text/plain": [
       "                  page_happiness\n",
       "rapper                          \n",
       "Cool C                  5.159117\n",
       "China Mac               5.162536\n",
       "AR-Ab                   5.180798\n",
       "DJ Whoo Kid             5.200481\n",
       "Benzino                 5.201280\n",
       "Drakeo the Ruler        5.204070\n",
       "Half a Mill             5.206753\n",
       "Shady Nate              5.210400\n",
       "Jimmy Wopo              5.211556\n",
       "Bobby Shmurda           5.216737"
      ]
     },
     "execution_count": 36,
     "metadata": {},
     "output_type": "execute_result"
    }
   ],
   "source": [
    "print(\"Top 10 rappers with the saddest pages:\")\n",
    "sentiments_df.sort_values(\"page_happiness\", ascending=True).head(10)"
   ]
  },
  {
   "cell_type": "markdown",
   "metadata": {},
   "source": [
    "*Exercise 2*: West coast and East coast.\n",
    "\n",
    "Now, let's check if the pages of rappers from different coasts tend to have different sentiment. \n",
    "\n",
    "> * First, think about it for a second: Do you expect pages of rappers from different coasts to have different sentiment? Why/why not?\n",
    "> * Next, Download [this file](https://github.com/SocialComplexityLab/socialgraphs2023/edit/main/files/Rappers.csv) if you do not have it already.\n",
    "> * Start by plotting the distribution of sentiment for the pages of east-coast and west-coast rappers separately. \n",
    "> * Now calculate the mean, median, 10th percentile, and 90 percentile sentiment value for each coast and indicate those values on the corresponding histograms.\n",
    "> * Comment on these distributions and how they relate to the overall sentiment distribution you calculated in Exercise 1 above.\n",
    "> * Use the \"label shuffling technique\" that I illustrated in **Week 5, exercise 7** to determine whether or not \n",
    ">   1. the west-coast pages tend to have lower sentiment than a similarly sized group of randomly chosen rapper pages (pick random groups 1000 times and reject the hypothesis if 5% of the random outcomes are lower than the actual value observed for the west-coast pages)\n",
    ">   2. the west-coast pages tend to have higher sentiment than a similarly sized group of randomly chosen character pages (again, use 1000 random draws and a 5% confidence bound).\n",
    ">   3. (**optional**) Perhaps there are other divisions of rappers whose pages would be more likely to have different sentiment. Perhaps comparing groups of rappers of different sexes, races, etc. would give interesting results? Feel free to do a deep dive here, and let me know which groups you analyze and how you end up \"guessing\" a rapper's sex, race, etc. \n",
    "\n",
    "Comment: The \"label shuffling technique\" is incredibly useful. It may turn out to be a good tool to apply for your independent project. Keep it in mind."
   ]
  },
  {
   "cell_type": "code",
   "execution_count": 45,
   "metadata": {},
   "outputs": [],
   "source": [
    "east_coast_view = rappers_df[rappers_df[\"Coast\"] == \"East\"]\n",
    "east_coast_happiness = sentiments_df.merge(east_coast_view, how=\"inner\", left_on=\"rapper\", right_on=\"WikipediaPageName\")\n",
    "\n",
    "west_coast_view = rappers_df[rappers_df[\"Coast\"] == \"West\"]\n",
    "west_coast_happiness = sentiments_df.merge(west_coast_view, how=\"inner\", left_on=\"rapper\", right_on=\"WikipediaPageName\")"
   ]
  },
  {
   "cell_type": "code",
   "execution_count": 65,
   "metadata": {},
   "outputs": [
    {
     "data": {
      "image/png": "[encoded data removed]",
      "text/plain": [
       "<Figure size 1200x600 with 1 Axes>"
      ]
     },
     "metadata": {},
     "output_type": "display_data"
    }
   ],
   "source": [
    "fig, ax = plt.subplots(figsize=(12,6))\n",
    "\n",
    "color = (\"blue\", \"orange\")\n",
    "coasts = [\"East Coast\", \"West Coast\"]\n",
    "cmap = dict(zip(coasts, color))\n",
    "patches = [plt.Rectangle((0,0),1,1, color=v) for k,v in cmap.items()]\n",
    "\n",
    "for c, dataset in zip(color, [east_coast_happiness, west_coast_happiness]):\n",
    "    counts, bins = np.histogram(dataset.page_happiness, bins=40)\n",
    "    widths = bins[:-1] - bins[1:]\n",
    "    ax.bar(bins[:-1], counts, widths, alpha=0.6, color=c)\n",
    "    ax.set_title(label=\"Histogram of happiness values for rapper wikipedia pages \")\n",
    "    ax.set_xlabel(xlabel=\"Average happiness of page\")\n",
    "    ax.set_ylabel(ylabel=\"Number of rapper pages\")\n",
    "    ax.legend(patches, coasts, loc='best')\n",
    "    \n",
    "plt.show()"
   ]
  },
  {
   "cell_type": "code",
   "execution_count": 63,
   "metadata": {},
   "outputs": [
    {
     "name": "stdout",
     "output_type": "stream",
     "text": [
      "East Coast\n",
      "Mean:  5.476893532954463\n",
      "Median:  5.487142857142858\n",
      "10th percentile:  5.355525347100856\n",
      "90th percentile:  5.58355474148877\n",
      "\n",
      "West Coast\n",
      "Mean:  5.498938533586423\n",
      "Median:  5.5007816091954025\n",
      "10th percentile:  5.386234854202997\n",
      "90th percentile:  5.610235294117647\n",
      "\n"
     ]
    }
   ],
   "source": [
    "for coast, dataset in zip(coasts, [east_coast_happiness, west_coast_happiness]):\n",
    "    print(coast)\n",
    "    print(\"Mean: \", dataset.page_happiness.mean())\n",
    "    print(\"Median: \", dataset.page_happiness.median())\n",
    "    print(\"10th percentile: \", dataset.page_happiness.quantile(0.1))\n",
    "    print(\"90th percentile: \", dataset.page_happiness.quantile(0.9))\n",
    "    print()"
   ]
  },
  {
   "cell_type": "code",
   "execution_count": 73,
   "metadata": {},
   "outputs": [
    {
     "data": {
      "image/png": "[encoded data removed]",
      "text/plain": [
       "<Figure size 1200x600 with 2 Axes>"
      ]
     },
     "metadata": {},
     "output_type": "display_data"
    }
   ],
   "source": [
    "fig, ax = plt.subplots(2, figsize=(12,6), tight_layout=True)\n",
    "\n",
    "color = (\"blue\", \"orange\")\n",
    "coasts = [\"East Coast\", \"West Coast\"]\n",
    "cmap = dict(zip(coasts, color))\n",
    "patches = [plt.Rectangle((0,0),1,1, color=v) for k,v in cmap.items()]\n",
    "\n",
    "for idx, (c, dataset) in enumerate(zip(color, [east_coast_happiness, west_coast_happiness])):\n",
    "    counts, bins = np.histogram(dataset.page_happiness, bins=40)\n",
    "    widths = bins[:-1] - bins[1:]\n",
    "    mean = dataset.page_happiness.mean()\n",
    "    median = dataset.page_happiness.median()\n",
    "    p_10 = dataset.page_happiness.quantile(0.1)\n",
    "    p_90 = dataset.page_happiness.quantile(0.9)\n",
    "    ax[idx].bar(bins[:-1], counts, widths, color=c, alpha=0.6)\n",
    "    ax[idx].set_title(label=\"Histogram of happiness values for rapper wikipedia pages \")\n",
    "    ax[idx].set_xlabel(xlabel=\"Average happiness of page\")\n",
    "    ax[idx].set_ylabel(ylabel=\"Number of rapper pages\")\n",
    "    ax[idx].axvline(mean, color='r', linestyle='solid', linewidth=2)\n",
    "    ax[idx].axvline(median, color='r', linestyle='dashed', linewidth=2)\n",
    "    ax[idx].axvline(p_10, color='r', linestyle='dashed', linewidth=2)\n",
    "    ax[idx].axvline(p_90, color='r', linestyle='dashed', linewidth=2)\n",
    "    \n",
    "plt.show()"
   ]
  },
  {
   "cell_type": "markdown",
   "metadata": {},
   "source": [
    "# Part B (optional): The Wikispeedia Extravaganza\n",
    "\n",
    "This final **AND OPTIONAL** exercise is about tying everything together. In this context \"optional\" means that the exercises below will not be on the assignment (but they're fun & cool).\n",
    "\n",
    "We try to combine our work on networks plus our work on language in order to understand and analyze human behavior. We'll be working on a cool dataset of humans playing a game on (a special version of) wikipedia called \"wikispeedia\".  Note that the game is now called *The Wiki Game* and can be found at http://thewikigame.com/ ( ... while \"http://wikispeedia.org\" is a page about GPS coordinates of speed-traps). \n",
    "\n",
    "Here's how the game worked:\n",
    "\n",
    "> In the game, users are asked to navigate from a given _source_ article (e.g. https://en.wikipedia.org/wiki/Gold_dollar) to a given _target_ article (e.g. https://en.wikipedia.org/wiki/Ronald_Reagan), **by only clicking Wikipedia links**. A condensed version of Wikipedia (4,604 articles) is used. \n",
    "\n",
    "So this dataset contains **human navigation paths** (clicking from page to page to find a target) and today we will work on this dataset to see if we can use our skills to understand how human navigation works. We will think about the following questions.\n",
    "\n",
    "* Path lengths\n",
    "* Betweenness from the human perspective\n",
    "* What characterizes human paths?\n",
    "\n",
    "Let's get started."
   ]
  },
  {
   "cell_type": "markdown",
   "metadata": {},
   "source": [
    "### Download the dataset\n",
    "\n",
    "The first thing we're going to do is download the dataset. Today everything related to data is nice, clean, and easy to work with (Yay). You can get the dataset [here](https://snap.stanford.edu/data/wikispeedia.html). You will need to get \n",
    "\n",
    "* The list of wiki articles\n",
    "* The network connections\n",
    "* The navigation paths\n",
    "* Plaintext of the wiki articles"
   ]
  },
  {
   "cell_type": "markdown",
   "metadata": {},
   "source": [
    "### Path lengths\n",
    "\n",
    "The first thing we want to take a look at is path lengths. NetworkX allows us to calculate the shortest path between any pair of articles. We begin by comparing the length of human and shortests paths. \n",
    "\n",
    "_Optional Exercises 1_\n",
    "> * For each _source_/_target_ pair in the list of human navigation paths, calculate the shortest path using NetworkX. Plot the distribution of path lengths. Mine looks something like this (if I use an undirected graph):\n",
    "![alt text](https://raw.githubusercontent.com/suneman/socialgraphs2016/master/files/shortest-path.png)\n",
    "\n",
    "\n",
    "> * For each _source_/_target_ pair, calculate the length of the human path. The dataset contains information on people who regret a navigation step and hit the \"back\" button in their web-browser. It's up to you how to incorporate that information in the path. Justify your choice. Plot the distribution of human path lengths. If I ignore back steps, I get this on log-log scale:\n",
    "![alt text](https://raw.githubusercontent.com/suneman/socialgraphs2016/master/files/human-path.png)\n",
    "\n",
    "> * How much longer are the human paths on average?\n",
    "> * Create scatter plot where each point is a _source_/_target_ pair, and you have human path lengths on the $x$-axis and shortests paths on the $y$-axis.\n",
    "> * Is there a correlation between human/shortest path-lengths? What is the correlation."
   ]
  },
  {
   "cell_type": "markdown",
   "metadata": {},
   "source": [
    "### Betweenness\n",
    "\n",
    "An interesting definition of centrality is _betweenness centrality_ (here's a handy [link to the NetworkX documentation](http://networkx.readthedocs.io/en/stable/reference/generated/networkx.algorithms.centrality.betweenness_centrality.html)). In a traditional setting, this measure calculates all shortest paths in the network and then each node gets a score according to which fraction of all shortest paths pass through that node.\n",
    "\n",
    "\n",
    "In this part, we will create our own version of centrality, based on the _source_/_target_ pairs in our dataset. We define a node's **navigation centrality** as follows. \n",
    "\n",
    "> *Navigation centrality* of node $i$ is the fraction of all navigation paths that pass through $i$. We exclude the source and target from the count. If a node has not been visited by a search, the navigation centrality of that node is defined to be zero.\n",
    "\n",
    "In the exercises below, we investigate the relationship between navigation centrality and betweenness centrality."
   ]
  },
  {
   "cell_type": "markdown",
   "metadata": {},
   "source": [
    "*Optional Exercises 2*\n",
    "\n",
    "> Begin by calculating the betweenness centrality and navigation centrality of all nodes in the Wikispeedia dataset.\n",
    "> Note that calculating the betweenness centrality can take quite a long time, so you might start it running in a separate notebook while first estimating it based on the existing human path.\n",
    ">\n",
    "> * First, list the 5 pages with highest navigation centrality.\n",
    "> * Second, list the 5 pages with highest betweenness centrality.\n",
    "> * Compare the two lists. Explain the differences between the two lists in your own words.\n",
    "> * Create a scatterplot of betweenness centrality vs. navigation centrality.\n",
    "> * Let's explore the pages that have navigation centrality equal to zero.\n",
    ">   * How many pages have zero navigation centrality?\n",
    ">   * What is the the page with zero navigation centrality and highest betweenness centrality? Can you explain why no human navigated to this page? Can you explain why the page is central in the actual link network? (For example, you can take a look at the degree of the node).\n",
    ">   * Plot the distribution of betweenness centrality for the pages with zero navigation centrality. My plot on log-log scale:\n",
    "![alt text](https://raw.githubusercontent.com/suneman/socialgraphs2016/master/files/betweenness.png)\n",
    "\n",
    "> * Now, let's *throw out all pages with zero navigation centrality* and compare navigation- and betweenness centrality for the remaining pages.\n",
    ">   * What is the correlation between betweenness centrality and navigation centrality?\n",
    ">   * Comment on the top 5 outliers."
   ]
  },
  {
   "cell_type": "markdown",
   "metadata": {},
   "source": [
    "# Bringing the text into the picture\n",
    "\n",
    "Now that we have an idea about the differences between how humans and computers search in networks, we are going to dig a little deeper using the page content to test a hypothesis to explain why the human navigation paths are longer. The general idea is that humans (who don't know about the global network structure) tend to jump between pages that have related _content_. For this reason we expect that (on average) human navigation paths have more similar content than the shortest paths in the network (which might take 'surprising' shortcuts via relatively unrelated pages). In short.\n",
    "\n",
    "> **Hypothesis H1**: Human navigation paths have more similar content than network shortest paths.\n",
    "\n",
    "The way we'll test this hypothesis is to first represent each page as a vector using a bag-of-words approach, then we can calculate a distance between pairs of pages using some vector-space difference, and finally we'll characterize each path by its average pair-wise distance. Below, I've set up that process as an exercise. "
   ]
  },
  {
   "cell_type": "markdown",
   "metadata": {},
   "source": [
    "*Optional Exercises 3*\n",
    "\n",
    "> First, create a TF-IDF vector for each page. You already know all about TF-IDF from last week's exercise. The main difference is that we now _characterize **each page** by a TF-IDF vector_ and not a group of pages.\n",
    "> \n",
    "> Second, write a function that calculates the distance between a pair of vectors. There are many ways to calculate distances between a pair of vectors (try a Google search for `vector space distance measures` if you want to refresh your knowledge on this topic). You're free to choose what you want, but we recommend the [cosine similarity](https://en.wikipedia.org/wiki/Cosine_similarity).\n",
    ">\n",
    "> Now you're ready for the exercises\n",
    "> \n",
    "> * Calculate the average pairwise similarity for all human navigation paths (the _source_/_target_ pairs from above). With start and end at node $i,j$ we can call this similarity $s_{i,j}$. Calculate mean/variance of the $s_{ij}$'s.\n",
    "> * Calculate the average pairwise similarity for all shortest paths between the _source_/_target_ pairs ($S_{i,j}$). Calculate mean/variance of the $S_{i,j}$.\n",
    "> * Plot the distributions of average similarities for both human- and shortest paths in a single plot. If everything works well, you should see something similar to the following:\n",
    "![alt text](https://raw.githubusercontent.com/suneman/socialgraphs2016/master/files/path-similarity.png)\n",
    "\n",
    "> * Finally, for each source/target pair, compare the human-navigation average similarity with the betweenness based average similarity, testing what fraction of the time, the average similarity is lower in the case of human navigation.\n",
    "> * Comment on your findings. Is **H1** true?"
   ]
  },
  {
   "cell_type": "code",
   "execution_count": null,
   "metadata": {},
   "outputs": [],
   "source": []
  }
 ],
 "metadata": {
  "kernelspec": {
   "display_name": "Python 3 (ipykernel)",
   "language": "python",
   "name": "python3"
  },
  "language_info": {
   "codemirror_mode": {
    "name": "ipython",
    "version": 3
   },
   "file_extension": ".py",
   "mimetype": "text/x-python",
   "name": "python",
   "nbconvert_exporter": "python",
   "pygments_lexer": "ipython3",
   "version": "3.10.12"
  }
 },
 "nbformat": 4,
 "nbformat_minor": 4
}
